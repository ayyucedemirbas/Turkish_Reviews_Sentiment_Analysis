{
  "nbformat": 4,
  "nbformat_minor": 0,
  "metadata": {
    "colab": {
      "name": "analyse.ipynb",
      "provenance": [],
      "collapsed_sections": [],
      "authorship_tag": "ABX9TyPoVnDyJVI8kAJpHN8YLYFV",
      "include_colab_link": true
    },
    "kernelspec": {
      "name": "python3",
      "display_name": "Python 3"
    },
    "language_info": {
      "name": "python"
    }
  },
  "cells": [
    {
      "cell_type": "markdown",
      "metadata": {
        "id": "view-in-github",
        "colab_type": "text"
      },
      "source": [
        "<a href=\"https://colab.research.google.com/github/ayyucedemirbas/Turkish_Reviews_Sentiment_Analysis/blob/main/analyse.ipynb\" target=\"_parent\"><img src=\"https://colab.research.google.com/assets/colab-badge.svg\" alt=\"Open In Colab\"/></a>"
      ]
    },
    {
      "cell_type": "code",
      "metadata": {
        "id": "mFQUX7y6CXi9"
      },
      "source": [
        "import pandas as pd\n",
        "import numpy as np"
      ],
      "execution_count": 1,
      "outputs": []
    },
    {
      "cell_type": "code",
      "metadata": {
        "id": "J207Haw3EEBU"
      },
      "source": [
        "from sklearn.model_selection import train_test_split\n",
        "from sklearn.feature_extraction.text import CountVectorizer\n",
        "from sklearn.linear_model import LogisticRegression\n",
        "from sklearn.metrics import roc_auc_score \n",
        "from sklearn.feature_extraction.text import TfidfVectorizer"
      ],
      "execution_count": 2,
      "outputs": []
    },
    {
      "cell_type": "code",
      "metadata": {
        "id": "zvbH9VfdCbeS"
      },
      "source": [
        "column = ['yorum']\n",
        "df = pd.read_csv('https://raw.githubusercontent.com/ayyucedemirbas/Turkish_Reviews_Sentiment_Analysis/main/yorumlar.csv', encoding ='iso-8859-9', sep='\"')\n",
        "df.columns=column"
      ],
      "execution_count": 3,
      "outputs": []
    },
    {
      "cell_type": "code",
      "metadata": {
        "id": "0sh8Si5yDUsr"
      },
      "source": [
        "def remove_stopwords(df_fon):\n",
        "    stopwords = open('./stop_words', 'r').read().split()\n",
        "    df_fon['stopwords_removed'] = list(map(lambda doc:\n",
        "        [word for word in doc if word not in stopwords], df_fon['yorum']))"
      ],
      "execution_count": 4,
      "outputs": []
    },
    {
      "cell_type": "code",
      "metadata": {
        "id": "jIdPxTq5Dfx6"
      },
      "source": [
        "remove_stopwords(df)"
      ],
      "execution_count": 5,
      "outputs": []
    },
    {
      "cell_type": "code",
      "metadata": {
        "colab": {
          "base_uri": "https://localhost:8080/"
        },
        "id": "J6yoL5H6D5OL",
        "outputId": "389ca54b-dcb3-4e62-ad85-cb4e09fc0712"
      },
      "source": [
        "df['Positivity'] = 1\n",
        "df.Positivity.iloc[10003:] = 0"
      ],
      "execution_count": 6,
      "outputs": [
        {
          "output_type": "stream",
          "name": "stderr",
          "text": [
            "/usr/local/lib/python3.7/dist-packages/pandas/core/indexing.py:670: SettingWithCopyWarning: \n",
            "A value is trying to be set on a copy of a slice from a DataFrame\n",
            "\n",
            "See the caveats in the documentation: https://pandas.pydata.org/pandas-docs/stable/user_guide/indexing.html#returning-a-view-versus-a-copy\n",
            "  iloc._setitem_with_indexer(indexer, value)\n"
          ]
        }
      ]
    },
    {
      "cell_type": "code",
      "metadata": {
        "id": "Zh8mqXgsEXmt"
      },
      "source": [
        "X_train, X_test, y_train, y_test = train_test_split(df['yorum'], df['Positivity'], random_state = 0)\n",
        "vect = CountVectorizer(encoding ='iso-8859-9').fit(X_train)"
      ],
      "execution_count": 7,
      "outputs": []
    },
    {
      "cell_type": "code",
      "metadata": {
        "id": "1TInyhlHF3gY"
      },
      "source": [
        "vect = CountVectorizer(min_df = 5, ngram_range = (1,2)).fit(X_train)\n",
        "X_train_vectorized = vect.transform(X_train)"
      ],
      "execution_count": 8,
      "outputs": []
    },
    {
      "cell_type": "code",
      "metadata": {
        "colab": {
          "base_uri": "https://localhost:8080/"
        },
        "id": "83BctdggGBMH",
        "outputId": "50f9a01c-9c98-4de0-9dc6-8e6cf1353a2d"
      },
      "source": [
        "model = LogisticRegression()\n",
        "model.fit(X_train_vectorized, y_train)\n",
        "predictions = model.predict(vect.transform(X_test))"
      ],
      "execution_count": 9,
      "outputs": [
        {
          "output_type": "stream",
          "name": "stderr",
          "text": [
            "/usr/local/lib/python3.7/dist-packages/sklearn/linear_model/_logistic.py:940: ConvergenceWarning: lbfgs failed to converge (status=1):\n",
            "STOP: TOTAL NO. of ITERATIONS REACHED LIMIT.\n",
            "\n",
            "Increase the number of iterations (max_iter) or scale the data as shown in:\n",
            "    https://scikit-learn.org/stable/modules/preprocessing.html\n",
            "Please also refer to the documentation for alternative solver options:\n",
            "    https://scikit-learn.org/stable/modules/linear_model.html#logistic-regression\n",
            "  extra_warning_msg=_LOGISTIC_SOLVER_CONVERGENCE_MSG)\n"
          ]
        }
      ]
    },
    {
      "cell_type": "code",
      "metadata": {
        "colab": {
          "base_uri": "https://localhost:8080/",
          "height": 204
        },
        "id": "da70fFf9GxRy",
        "outputId": "1fafc68a-8d42-453c-94eb-1930daff3f56"
      },
      "source": [
        "data=pd.read_csv(\"https://raw.githubusercontent.com/ayyucedemirbas/Turkish_Reviews_Sentiment_Analysis/main/reviews.csv\")\n",
        "data.head()"
      ],
      "execution_count": 10,
      "outputs": [
        {
          "output_type": "execute_result",
          "data": {
            "text/html": [
              "<div>\n",
              "<style scoped>\n",
              "    .dataframe tbody tr th:only-of-type {\n",
              "        vertical-align: middle;\n",
              "    }\n",
              "\n",
              "    .dataframe tbody tr th {\n",
              "        vertical-align: top;\n",
              "    }\n",
              "\n",
              "    .dataframe thead th {\n",
              "        text-align: right;\n",
              "    }\n",
              "</style>\n",
              "<table border=\"1\" class=\"dataframe\">\n",
              "  <thead>\n",
              "    <tr style=\"text-align: right;\">\n",
              "      <th></th>\n",
              "      <th>reviews</th>\n",
              "    </tr>\n",
              "  </thead>\n",
              "  <tbody>\n",
              "    <tr>\n",
              "      <th>0</th>\n",
              "      <td>\\n\\n  Bu kadar kötü bir ürün olamaz\\n\\n</td>\n",
              "    </tr>\n",
              "    <tr>\n",
              "      <th>1</th>\n",
              "      <td>\\n\\n  Hayatım boyunca yaptığım alışverişler iç...</td>\n",
              "    </tr>\n",
              "    <tr>\n",
              "      <th>2</th>\n",
              "      <td>\\n\\n  Ürün zamanında geldi kutuyu açtık yıkadı...</td>\n",
              "    </tr>\n",
              "    <tr>\n",
              "      <th>3</th>\n",
              "      <td>\\n\\n  Üst taraftaki külah gibi olan Demir’ bağ...</td>\n",
              "    </tr>\n",
              "    <tr>\n",
              "      <th>4</th>\n",
              "      <td>\\n\\n  Malzeme kalitesi vasatın altında. Her an...</td>\n",
              "    </tr>\n",
              "  </tbody>\n",
              "</table>\n",
              "</div>"
            ],
            "text/plain": [
              "                                             reviews\n",
              "0            \\n\\n  Bu kadar kötü bir ürün olamaz\\n\\n\n",
              "1  \\n\\n  Hayatım boyunca yaptığım alışverişler iç...\n",
              "2  \\n\\n  Ürün zamanında geldi kutuyu açtık yıkadı...\n",
              "3  \\n\\n  Üst taraftaki külah gibi olan Demir’ bağ...\n",
              "4  \\n\\n  Malzeme kalitesi vasatın altında. Her an..."
            ]
          },
          "metadata": {},
          "execution_count": 10
        }
      ]
    },
    {
      "cell_type": "code",
      "metadata": {
        "colab": {
          "base_uri": "https://localhost:8080/"
        },
        "id": "necJYaewH6i2",
        "outputId": "1d8a32a1-d353-48e3-8afb-c73afedd0a11"
      },
      "source": [
        "len(data['reviews'])"
      ],
      "execution_count": 11,
      "outputs": [
        {
          "output_type": "execute_result",
          "data": {
            "text/plain": [
              "1006"
            ]
          },
          "metadata": {},
          "execution_count": 11
        }
      ]
    },
    {
      "cell_type": "code",
      "metadata": {
        "colab": {
          "base_uri": "https://localhost:8080/",
          "height": 72
        },
        "id": "GkkemURwHS1h",
        "outputId": "44d7fbbc-aae6-4caf-d55e-b90d5f80969c"
      },
      "source": [
        "data_to_pred=[data['reviews'][175]]\n",
        "prediction= model.predict(vect.transform(data_to_pred))\n",
        "print(data_to_pred)\n",
        "val=None\n",
        "if prediction[0]==0:\n",
        "  val='negative'\n",
        "else:\n",
        "  val='positive'\n",
        "\n",
        "val"
      ],
      "execution_count": 12,
      "outputs": [
        {
          "output_type": "stream",
          "name": "stdout",
          "text": [
            "['\\n\\n  İşyerimde kullanıyordum gerçekten içimi güzel kahve yaptığı için evime de aldım. Eşimde denedi ve beğendi. Bu arada güzel paketleme ve hızlı kargo için de çok teşekkürler.\\n\\n']\n"
          ]
        },
        {
          "output_type": "execute_result",
          "data": {
            "application/vnd.google.colaboratory.intrinsic+json": {
              "type": "string"
            },
            "text/plain": [
              "'positive'"
            ]
          },
          "metadata": {},
          "execution_count": 12
        }
      ]
    },
    {
      "cell_type": "code",
      "metadata": {
        "colab": {
          "base_uri": "https://localhost:8080/",
          "height": 72
        },
        "id": "vCnTUPk_Iv_R",
        "outputId": "04d89ba9-860c-4e3f-8d5e-97451aa954ea"
      },
      "source": [
        "data_to_pred=[data['reviews'][5]]\n",
        "prediction= model.predict(vect.transform(data_to_pred))\n",
        "print(data_to_pred)\n",
        "val=None\n",
        "if prediction[0]==0:\n",
        "  val='negative'\n",
        "else:\n",
        "  val='positive'\n",
        "\n",
        "val"
      ],
      "execution_count": 13,
      "outputs": [
        {
          "output_type": "stream",
          "name": "stdout",
          "text": [
            "['\\n\\n  Dişli sistemi çok kötü. Çabuk kırılıyor.Ayrıca kol klipsi de çıkıp sıkılan portakal suyunun içine düşebiliyor. Çok tehlikeli tavsiye etmem\\n\\n']\n"
          ]
        },
        {
          "output_type": "execute_result",
          "data": {
            "application/vnd.google.colaboratory.intrinsic+json": {
              "type": "string"
            },
            "text/plain": [
              "'negative'"
            ]
          },
          "metadata": {},
          "execution_count": 13
        }
      ]
    },
    {
      "cell_type": "code",
      "metadata": {
        "id": "FL7F1iZPHWzs",
        "outputId": "d2f6e7bb-f0af-4204-dd20-d0691953333c",
        "colab": {
          "base_uri": "https://localhost:8080/",
          "height": 72
        }
      },
      "source": [
        "data_to_pred=[data['reviews'][739]]\n",
        "prediction= model.predict(vect.transform(data_to_pred))\n",
        "print(data_to_pred)\n",
        "val=None\n",
        "if prediction[0]==0:\n",
        "  val='negative'\n",
        "else:\n",
        "  val='positive'\n",
        "\n",
        "val"
      ],
      "execution_count": 15,
      "outputs": [
        {
          "output_type": "stream",
          "name": "stdout",
          "text": [
            "['\\n\\n  Grundig kalitesi. Orta segment ürün. Gayet yeterli. Bir sürü aksesuarı var. Ama iç kutu hasarlı idi. Önceden açılmış ürün sanırım. Ondan bir puan kırdım.\\n\\n']\n"
          ]
        },
        {
          "output_type": "execute_result",
          "data": {
            "application/vnd.google.colaboratory.intrinsic+json": {
              "type": "string"
            },
            "text/plain": [
              "'negative'"
            ]
          },
          "metadata": {},
          "execution_count": 15
        }
      ]
    },
    {
      "cell_type": "code",
      "metadata": {
        "id": "Z7iqgv09Jhmo"
      },
      "source": [
        "data['score']=None\n",
        "for i in range(1006):\n",
        "  data_to_pred=[data['reviews'][i]]\n",
        "  prediction= model.predict(vect.transform(data_to_pred))\n",
        "  data['score'][i]=prediction[0]"
      ],
      "execution_count": 16,
      "outputs": []
    },
    {
      "cell_type": "code",
      "metadata": {
        "colab": {
          "base_uri": "https://localhost:8080/",
          "height": 419
        },
        "id": "1ma1ivksJ9S0",
        "outputId": "6328a972-3bcc-4800-a5bf-db5f4daa9075"
      },
      "source": [
        "data"
      ],
      "execution_count": 17,
      "outputs": [
        {
          "output_type": "execute_result",
          "data": {
            "text/html": [
              "<div>\n",
              "<style scoped>\n",
              "    .dataframe tbody tr th:only-of-type {\n",
              "        vertical-align: middle;\n",
              "    }\n",
              "\n",
              "    .dataframe tbody tr th {\n",
              "        vertical-align: top;\n",
              "    }\n",
              "\n",
              "    .dataframe thead th {\n",
              "        text-align: right;\n",
              "    }\n",
              "</style>\n",
              "<table border=\"1\" class=\"dataframe\">\n",
              "  <thead>\n",
              "    <tr style=\"text-align: right;\">\n",
              "      <th></th>\n",
              "      <th>reviews</th>\n",
              "      <th>score</th>\n",
              "    </tr>\n",
              "  </thead>\n",
              "  <tbody>\n",
              "    <tr>\n",
              "      <th>0</th>\n",
              "      <td>\\n\\n  Bu kadar kötü bir ürün olamaz\\n\\n</td>\n",
              "      <td>0</td>\n",
              "    </tr>\n",
              "    <tr>\n",
              "      <th>1</th>\n",
              "      <td>\\n\\n  Hayatım boyunca yaptığım alışverişler iç...</td>\n",
              "      <td>0</td>\n",
              "    </tr>\n",
              "    <tr>\n",
              "      <th>2</th>\n",
              "      <td>\\n\\n  Ürün zamanında geldi kutuyu açtık yıkadı...</td>\n",
              "      <td>1</td>\n",
              "    </tr>\n",
              "    <tr>\n",
              "      <th>3</th>\n",
              "      <td>\\n\\n  Üst taraftaki külah gibi olan Demir’ bağ...</td>\n",
              "      <td>0</td>\n",
              "    </tr>\n",
              "    <tr>\n",
              "      <th>4</th>\n",
              "      <td>\\n\\n  Malzeme kalitesi vasatın altında. Her an...</td>\n",
              "      <td>1</td>\n",
              "    </tr>\n",
              "    <tr>\n",
              "      <th>...</th>\n",
              "      <td>...</td>\n",
              "      <td>...</td>\n",
              "    </tr>\n",
              "    <tr>\n",
              "      <th>1001</th>\n",
              "      <td>\\n\\n  Elde kullanım için en uygun marka philip...</td>\n",
              "      <td>1</td>\n",
              "    </tr>\n",
              "    <tr>\n",
              "      <th>1002</th>\n",
              "      <td>\\n\\n  Ürünü 24 saat olmadan ulaştırdılar çok t...</td>\n",
              "      <td>0</td>\n",
              "    </tr>\n",
              "    <tr>\n",
              "      <th>1003</th>\n",
              "      <td>\\n\\n  Uzjn incelemeler sonrasında en uygun fiy...</td>\n",
              "      <td>1</td>\n",
              "    </tr>\n",
              "    <tr>\n",
              "      <th>1004</th>\n",
              "      <td>\\n\\n  Ben aldıktan sonra fiyatı ucuzladı . Ama...</td>\n",
              "      <td>1</td>\n",
              "    </tr>\n",
              "    <tr>\n",
              "      <th>1005</th>\n",
              "      <td>\\n\\n  Ürün gerçekten güzel rengi herşeyi ama ş...</td>\n",
              "      <td>1</td>\n",
              "    </tr>\n",
              "  </tbody>\n",
              "</table>\n",
              "<p>1006 rows × 2 columns</p>\n",
              "</div>"
            ],
            "text/plain": [
              "                                                reviews score\n",
              "0               \\n\\n  Bu kadar kötü bir ürün olamaz\\n\\n     0\n",
              "1     \\n\\n  Hayatım boyunca yaptığım alışverişler iç...     0\n",
              "2     \\n\\n  Ürün zamanında geldi kutuyu açtık yıkadı...     1\n",
              "3     \\n\\n  Üst taraftaki külah gibi olan Demir’ bağ...     0\n",
              "4     \\n\\n  Malzeme kalitesi vasatın altında. Her an...     1\n",
              "...                                                 ...   ...\n",
              "1001  \\n\\n  Elde kullanım için en uygun marka philip...     1\n",
              "1002  \\n\\n  Ürünü 24 saat olmadan ulaştırdılar çok t...     0\n",
              "1003  \\n\\n  Uzjn incelemeler sonrasında en uygun fiy...     1\n",
              "1004  \\n\\n  Ben aldıktan sonra fiyatı ucuzladı . Ama...     1\n",
              "1005  \\n\\n  Ürün gerçekten güzel rengi herşeyi ama ş...     1\n",
              "\n",
              "[1006 rows x 2 columns]"
            ]
          },
          "metadata": {},
          "execution_count": 17
        }
      ]
    },
    {
      "cell_type": "code",
      "metadata": {
        "id": "Uq7YJZ3qLJMv"
      },
      "source": [
        "data.to_csv('tagged_data.csv',index=False)"
      ],
      "execution_count": null,
      "outputs": []
    }
  ]
}