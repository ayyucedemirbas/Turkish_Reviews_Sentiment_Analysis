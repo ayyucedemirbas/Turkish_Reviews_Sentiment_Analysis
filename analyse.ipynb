{
  "nbformat": 4,
  "nbformat_minor": 0,
  "metadata": {
    "colab": {
      "name": "analyse.ipynb",
      "provenance": [],
      "collapsed_sections": [],
      "authorship_tag": "ABX9TyP021h7zAfLhQ3Pe0fdpoKT",
      "include_colab_link": true
    },
    "kernelspec": {
      "name": "python3",
      "display_name": "Python 3"
    },
    "language_info": {
      "name": "python"
    }
  },
  "cells": [
    {
      "cell_type": "markdown",
      "metadata": {
        "id": "view-in-github",
        "colab_type": "text"
      },
      "source": [
        "<a href=\"https://colab.research.google.com/github/ayyucedemirbas/Turkish_Reviews_Sentiment_Analysis/blob/main/analyse.ipynb\" target=\"_parent\"><img src=\"https://colab.research.google.com/assets/colab-badge.svg\" alt=\"Open In Colab\"/></a>"
      ]
    },
    {
      "cell_type": "code",
      "metadata": {
        "id": "mFQUX7y6CXi9"
      },
      "source": [
        "import pandas as pd\n",
        "import numpy as np"
      ],
      "execution_count": 1,
      "outputs": []
    },
    {
      "cell_type": "code",
      "metadata": {
        "id": "zvbH9VfdCbeS"
      },
      "source": [
        "column = ['yorum']\n",
        "df = pd.read_csv('https://raw.githubusercontent.com/ayyucedemirbas/Turkish_Reviews_Sentiment_Analysis/main/yorumlar.csv', encoding ='iso-8859-9', sep='\"')\n",
        "df.columns=column"
      ],
      "execution_count": 2,
      "outputs": []
    },
    {
      "cell_type": "code",
      "metadata": {
        "id": "0sh8Si5yDUsr"
      },
      "source": [
        "def remove_stopwords(df_fon):\n",
        "    stopwords = open('./stop_words', 'r').read().split()\n",
        "    df_fon['stopwords_removed'] = list(map(lambda doc:\n",
        "        [word for word in doc if word not in stopwords], df_fon['yorum']))"
      ],
      "execution_count": 3,
      "outputs": []
    },
    {
      "cell_type": "code",
      "metadata": {
        "id": "jIdPxTq5Dfx6"
      },
      "source": [
        "remove_stopwords(df)"
      ],
      "execution_count": 4,
      "outputs": []
    },
    {
      "cell_type": "code",
      "metadata": {
        "colab": {
          "base_uri": "https://localhost:8080/"
        },
        "id": "J6yoL5H6D5OL",
        "outputId": "21427057-4a62-45a4-f943-d66c9389eda8"
      },
      "source": [
        "df['Positivity'] = 1\n",
        "df.Positivity.iloc[10003:] = 0"
      ],
      "execution_count": 5,
      "outputs": [
        {
          "output_type": "stream",
          "name": "stderr",
          "text": [
            "/usr/local/lib/python3.7/dist-packages/pandas/core/indexing.py:670: SettingWithCopyWarning: \n",
            "A value is trying to be set on a copy of a slice from a DataFrame\n",
            "\n",
            "See the caveats in the documentation: https://pandas.pydata.org/pandas-docs/stable/user_guide/indexing.html#returning-a-view-versus-a-copy\n",
            "  iloc._setitem_with_indexer(indexer, value)\n"
          ]
        }
      ]
    },
    {
      "cell_type": "code",
      "metadata": {
        "id": "J207Haw3EEBU"
      },
      "source": [
        "from sklearn.model_selection import train_test_split\n",
        "from sklearn.feature_extraction.text import CountVectorizer\n",
        "from sklearn.linear_model import LogisticRegression\n",
        "from sklearn.metrics import roc_auc_score\n",
        "from sklearn.feature_extraction.text import TfidfVectorizer"
      ],
      "execution_count": 6,
      "outputs": []
    },
    {
      "cell_type": "code",
      "metadata": {
        "id": "Zh8mqXgsEXmt"
      },
      "source": [
        "X_train, X_test, y_train, y_test = train_test_split(df['yorum'], df['Positivity'], random_state = 0)\n",
        "vect = CountVectorizer(encoding ='iso-8859-9').fit(X_train)\n",
        "X_train_vectorized = vect.transform(X_train)"
      ],
      "execution_count": 7,
      "outputs": []
    },
    {
      "cell_type": "code",
      "metadata": {
        "colab": {
          "base_uri": "https://localhost:8080/"
        },
        "id": "thOf698UEnXV",
        "outputId": "699c314d-0e71-4385-f4fa-fded44336a1c"
      },
      "source": [
        "model = LogisticRegression()\n",
        "model.fit(X_train_vectorized, y_train)"
      ],
      "execution_count": 8,
      "outputs": [
        {
          "output_type": "stream",
          "name": "stderr",
          "text": [
            "/usr/local/lib/python3.7/dist-packages/sklearn/linear_model/_logistic.py:940: ConvergenceWarning: lbfgs failed to converge (status=1):\n",
            "STOP: TOTAL NO. of ITERATIONS REACHED LIMIT.\n",
            "\n",
            "Increase the number of iterations (max_iter) or scale the data as shown in:\n",
            "    https://scikit-learn.org/stable/modules/preprocessing.html\n",
            "Please also refer to the documentation for alternative solver options:\n",
            "    https://scikit-learn.org/stable/modules/linear_model.html#logistic-regression\n",
            "  extra_warning_msg=_LOGISTIC_SOLVER_CONVERGENCE_MSG)\n"
          ]
        },
        {
          "output_type": "execute_result",
          "data": {
            "text/plain": [
              "LogisticRegression(C=1.0, class_weight=None, dual=False, fit_intercept=True,\n",
              "                   intercept_scaling=1, l1_ratio=None, max_iter=100,\n",
              "                   multi_class='auto', n_jobs=None, penalty='l2',\n",
              "                   random_state=None, solver='lbfgs', tol=0.0001, verbose=0,\n",
              "                   warm_start=False)"
            ]
          },
          "metadata": {},
          "execution_count": 8
        }
      ]
    },
    {
      "cell_type": "code",
      "metadata": {
        "id": "GpzcNtNcEsTt"
      },
      "source": [
        "predictions = model.predict(vect.transform(X_test))"
      ],
      "execution_count": 9,
      "outputs": []
    },
    {
      "cell_type": "code",
      "metadata": {
        "id": "ESTOkCZUE0LK"
      },
      "source": [
        "auc=roc_auc_score(y_test, predictions)"
      ],
      "execution_count": 10,
      "outputs": []
    },
    {
      "cell_type": "code",
      "metadata": {
        "colab": {
          "base_uri": "https://localhost:8080/"
        },
        "id": "vH1w1X9AE4LN",
        "outputId": "a73bc3ff-c19e-4806-ee1b-b5dc5cfe7091"
      },
      "source": [
        "auc"
      ],
      "execution_count": 11,
      "outputs": [
        {
          "output_type": "execute_result",
          "data": {
            "text/plain": [
              "0.8785360969798461"
            ]
          },
          "metadata": {},
          "execution_count": 11
        }
      ]
    },
    {
      "cell_type": "code",
      "metadata": {
        "colab": {
          "base_uri": "https://localhost:8080/"
        },
        "id": "XCmKzj-EFDeC",
        "outputId": "410b33ca-4a18-4c86-b458-53ebec4751b3"
      },
      "source": [
        "vect = TfidfVectorizer(min_df = 5).fit(X_train)\n",
        "X_train_vectorized = vect.transform(X_train)\n",
        "model = LogisticRegression()\n",
        "model.fit(X_train_vectorized, y_train)"
      ],
      "execution_count": 12,
      "outputs": [
        {
          "output_type": "execute_result",
          "data": {
            "text/plain": [
              "LogisticRegression(C=1.0, class_weight=None, dual=False, fit_intercept=True,\n",
              "                   intercept_scaling=1, l1_ratio=None, max_iter=100,\n",
              "                   multi_class='auto', n_jobs=None, penalty='l2',\n",
              "                   random_state=None, solver='lbfgs', tol=0.0001, verbose=0,\n",
              "                   warm_start=False)"
            ]
          },
          "metadata": {},
          "execution_count": 12
        }
      ]
    },
    {
      "cell_type": "code",
      "metadata": {
        "id": "65QVNGAPFT2K"
      },
      "source": [
        "predictions = model.predict(vect.transform(X_test))\n",
        "auc= roc_auc_score(y_test, predictions)"
      ],
      "execution_count": 13,
      "outputs": []
    },
    {
      "cell_type": "code",
      "metadata": {
        "colab": {
          "base_uri": "https://localhost:8080/"
        },
        "id": "SfdeRkZOFc6C",
        "outputId": "40ce12e3-e98a-4fbf-9bfe-ae998176b6a4"
      },
      "source": [
        "auc"
      ],
      "execution_count": 14,
      "outputs": [
        {
          "output_type": "execute_result",
          "data": {
            "text/plain": [
              "0.8789689969970661"
            ]
          },
          "metadata": {},
          "execution_count": 14
        }
      ]
    },
    {
      "cell_type": "code",
      "metadata": {
        "id": "1TInyhlHF3gY"
      },
      "source": [
        "vect = CountVectorizer(min_df = 5, ngram_range = (1,2)).fit(X_train)\n",
        "X_train_vectorized = vect.transform(X_train)"
      ],
      "execution_count": 15,
      "outputs": []
    },
    {
      "cell_type": "code",
      "metadata": {
        "colab": {
          "base_uri": "https://localhost:8080/"
        },
        "id": "83BctdggGBMH",
        "outputId": "af836d70-0e6c-4ce8-a823-bc5425b08281"
      },
      "source": [
        "model = LogisticRegression()\n",
        "model.fit(X_train_vectorized, y_train)\n",
        "predictions = model.predict(vect.transform(X_test))"
      ],
      "execution_count": 16,
      "outputs": [
        {
          "output_type": "stream",
          "name": "stderr",
          "text": [
            "/usr/local/lib/python3.7/dist-packages/sklearn/linear_model/_logistic.py:940: ConvergenceWarning: lbfgs failed to converge (status=1):\n",
            "STOP: TOTAL NO. of ITERATIONS REACHED LIMIT.\n",
            "\n",
            "Increase the number of iterations (max_iter) or scale the data as shown in:\n",
            "    https://scikit-learn.org/stable/modules/preprocessing.html\n",
            "Please also refer to the documentation for alternative solver options:\n",
            "    https://scikit-learn.org/stable/modules/linear_model.html#logistic-regression\n",
            "  extra_warning_msg=_LOGISTIC_SOLVER_CONVERGENCE_MSG)\n"
          ]
        }
      ]
    },
    {
      "cell_type": "code",
      "metadata": {
        "colab": {
          "base_uri": "https://localhost:8080/",
          "height": 204
        },
        "id": "da70fFf9GxRy",
        "outputId": "4448b0e9-b309-4529-c699-a2e9c632c9c1"
      },
      "source": [
        "data=pd.read_csv(\"https://raw.githubusercontent.com/ayyucedemirbas/Turkish_Reviews_Sentiment_Analysis/main/reviews.csv\")\n",
        "data.head()"
      ],
      "execution_count": 17,
      "outputs": [
        {
          "output_type": "execute_result",
          "data": {
            "text/html": [
              "<div>\n",
              "<style scoped>\n",
              "    .dataframe tbody tr th:only-of-type {\n",
              "        vertical-align: middle;\n",
              "    }\n",
              "\n",
              "    .dataframe tbody tr th {\n",
              "        vertical-align: top;\n",
              "    }\n",
              "\n",
              "    .dataframe thead th {\n",
              "        text-align: right;\n",
              "    }\n",
              "</style>\n",
              "<table border=\"1\" class=\"dataframe\">\n",
              "  <thead>\n",
              "    <tr style=\"text-align: right;\">\n",
              "      <th></th>\n",
              "      <th>reviews</th>\n",
              "    </tr>\n",
              "  </thead>\n",
              "  <tbody>\n",
              "    <tr>\n",
              "      <th>0</th>\n",
              "      <td>\\n\\n  Bu kadar kötü bir ürün olamaz\\n\\n</td>\n",
              "    </tr>\n",
              "    <tr>\n",
              "      <th>1</th>\n",
              "      <td>\\n\\n  Hayatım boyunca yaptığım alışverişler iç...</td>\n",
              "    </tr>\n",
              "    <tr>\n",
              "      <th>2</th>\n",
              "      <td>\\n\\n  Ürün zamanında geldi kutuyu açtık yıkadı...</td>\n",
              "    </tr>\n",
              "    <tr>\n",
              "      <th>3</th>\n",
              "      <td>\\n\\n  Üst taraftaki külah gibi olan Demir’ bağ...</td>\n",
              "    </tr>\n",
              "    <tr>\n",
              "      <th>4</th>\n",
              "      <td>\\n\\n  Malzeme kalitesi vasatın altında. Her an...</td>\n",
              "    </tr>\n",
              "  </tbody>\n",
              "</table>\n",
              "</div>"
            ],
            "text/plain": [
              "                                             reviews\n",
              "0            \\n\\n  Bu kadar kötü bir ürün olamaz\\n\\n\n",
              "1  \\n\\n  Hayatım boyunca yaptığım alışverişler iç...\n",
              "2  \\n\\n  Ürün zamanında geldi kutuyu açtık yıkadı...\n",
              "3  \\n\\n  Üst taraftaki külah gibi olan Demir’ bağ...\n",
              "4  \\n\\n  Malzeme kalitesi vasatın altında. Her an..."
            ]
          },
          "metadata": {},
          "execution_count": 17
        }
      ]
    },
    {
      "cell_type": "code",
      "metadata": {
        "colab": {
          "base_uri": "https://localhost:8080/"
        },
        "id": "necJYaewH6i2",
        "outputId": "1de8b2de-8ab2-4106-e55e-1187f7499c7e"
      },
      "source": [
        "len(data['reviews'])"
      ],
      "execution_count": 25,
      "outputs": [
        {
          "output_type": "execute_result",
          "data": {
            "text/plain": [
              "1006"
            ]
          },
          "metadata": {},
          "execution_count": 25
        }
      ]
    },
    {
      "cell_type": "code",
      "metadata": {
        "colab": {
          "base_uri": "https://localhost:8080/",
          "height": 72
        },
        "id": "GkkemURwHS1h",
        "outputId": "b6e32dcf-94d6-4b06-aa60-a62fb66286d9"
      },
      "source": [
        "data_to_pred=[data['reviews'][175]]\n",
        "prediction= model.predict(vect.transform(data_to_pred))\n",
        "print(data_to_pred)\n",
        "val=None\n",
        "if prediction[0]==0:\n",
        "  val='negative'\n",
        "else:\n",
        "  val='positive'\n",
        "\n",
        "val"
      ],
      "execution_count": 37,
      "outputs": [
        {
          "output_type": "stream",
          "name": "stdout",
          "text": [
            "['\\n\\n  İşyerimde kullanıyordum gerçekten içimi güzel kahve yaptığı için evime de aldım. Eşimde denedi ve beğendi. Bu arada güzel paketleme ve hızlı kargo için de çok teşekkürler.\\n\\n']\n"
          ]
        },
        {
          "output_type": "execute_result",
          "data": {
            "application/vnd.google.colaboratory.intrinsic+json": {
              "type": "string"
            },
            "text/plain": [
              "'positive'"
            ]
          },
          "metadata": {},
          "execution_count": 37
        }
      ]
    },
    {
      "cell_type": "code",
      "metadata": {
        "colab": {
          "base_uri": "https://localhost:8080/",
          "height": 52
        },
        "id": "vCnTUPk_Iv_R",
        "outputId": "0e56c93c-86bc-48b4-8ee3-fe82c8f4c9ac"
      },
      "source": [
        "data_to_pred=[data['reviews'][5]]\n",
        "prediction= model.predict(vect.transform(data_to_pred))\n",
        "print(data_to_pred)\n",
        "val=None\n",
        "if prediction[0]==0:\n",
        "  val='negative'\n",
        "else:\n",
        "  val='positive'\n",
        "\n",
        "val"
      ],
      "execution_count": 39,
      "outputs": [
        {
          "output_type": "stream",
          "name": "stdout",
          "text": [
            "['\\n\\n  Dişli sistemi çok kötü. Çabuk kırılıyor.Ayrıca kol klipsi de çıkıp sıkılan portakal suyunun içine düşebiliyor. Çok tehlikeli tavsiye etmem\\n\\n']\n"
          ]
        },
        {
          "output_type": "execute_result",
          "data": {
            "application/vnd.google.colaboratory.intrinsic+json": {
              "type": "string"
            },
            "text/plain": [
              "'negative'"
            ]
          },
          "metadata": {},
          "execution_count": 39
        }
      ]
    }
  ]
}